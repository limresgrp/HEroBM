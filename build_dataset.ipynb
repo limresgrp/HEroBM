{
 "cells": [
  {
   "attachments": {},
   "cell_type": "markdown",
   "metadata": {},
   "source": [
    "# HEroBM Build Training Dataset #"
   ]
  },
  {
   "cell_type": "code",
   "execution_count": null,
   "metadata": {
    "metadata": {}
   },
   "outputs": [],
   "source": [
    "config_dict = {\n",
    "    \"A2A.martini3\": {\n",
    "        \"mapping\":     \"martini3\",\n",
    "        \"input\":       \"data/A2A/md/a2a.pdb\",\n",
    "        \"inputtraj\":   \"data/A2A/md/a2a.xtc\",\n",
    "        \"selection\":   \"protein\",\n",
    "        \"trajslice\":   \":500\", # first 500 frames\n",
    "        \"output\":      \"data/A2A/npz/train\",\n",
    "        \"isatomistic\": True,\n",
    "        \"bead_types_filename\": \"bead_types.bbcommon.yaml\", # use custom mapping of bead types: each BB bead has the same bead_type\n",
    "        \"cutoff\": 7.0,\n",
    "    },\n",
    "    \"NECA\": {\n",
    "        \"mapping\":     \"neca\",\n",
    "        \"input\":       \"data/NECA/md/neca.gro\",\n",
    "        \"inputtraj\":   \"data/NECA/md/neca.xtc\",\n",
    "        \"selection\":   \"all\",\n",
    "        \"trajslice\":   \"::10\", # stride of 10\n",
    "        \"output\":      \"data/POPC/npz/train\",\n",
    "        \"isatomistic\": True,\n",
    "        \"cutoff\": 7.0,\n",
    "    },\n",
    "}"
   ]
  },
  {
   "cell_type": "code",
   "execution_count": null,
   "metadata": {
    "metadata": {}
   },
   "outputs": [],
   "source": [
    "from herobm.scripts.build_dataset import build_dataset\n",
    "\n",
    "system = \"POPC.martini3\"\n",
    "build_dataset(args_dict=config_dict.get(system))"
   ]
  }
 ],
 "metadata": {
  "kernelspec": {
   "display_name": "herobm",
   "language": "python",
   "name": "python3"
  },
  "language_info": {
   "codemirror_mode": {
    "name": "ipython",
    "version": 3
   },
   "file_extension": ".py",
   "mimetype": "text/x-python",
   "name": "python",
   "nbconvert_exporter": "python",
   "pygments_lexer": "ipython3",
   "version": "3.10.12"
  },
  "orig_nbformat": 4
 },
 "nbformat": 4,
 "nbformat_minor": 2
}
