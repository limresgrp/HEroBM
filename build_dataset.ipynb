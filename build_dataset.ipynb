{
 "cells": [
  {
   "attachments": {},
   "cell_type": "markdown",
   "metadata": {},
   "source": [
    "# HEroBM Build Training Dataset #"
   ]
  },
  {
   "cell_type": "markdown",
   "metadata": {},
   "source": [
    "As an alternative to the interactive tutorial notebook, you can build your npz datasets having more control on the parameters to use.\n",
    "Also, the build_dataset.py file offers a __main__ to call the script directly from terminal"
   ]
  },
  {
   "cell_type": "code",
   "execution_count": 1,
   "metadata": {
    "metadata": {}
   },
   "outputs": [],
   "source": [
    "%reload_ext autoreload\n",
    "%autoreload 2"
   ]
  },
  {
   "cell_type": "code",
   "execution_count": 2,
   "metadata": {
    "metadata": {}
   },
   "outputs": [],
   "source": [
    "import os\n",
    "from build_dataset import build_dataset\n",
    "\n",
    "config_dict = {\n",
    "    \"A2A.martini3.train\": {\n",
    "        \"mapping\":     \"martini3\",\n",
    "        \"input\":       os.path.join(\"data/A2A\", \"a2a.pdb\"),\n",
    "        \"inputtraj\":   os.path.join(\"data/A2A\", \"a2a.xtc\"),\n",
    "        \"selection\":   \"protein\",\n",
    "        \"trajslice\":   \":800\",\n",
    "        \"output\":      os.path.join(\"data/A2A/train\"),\n",
    "        \"isatomistic\": True,\n",
    "    },\n",
    "    \"A2A.martini3.valid\": {\n",
    "        \"mapping\":     \"martini3\",\n",
    "        \"input\":       os.path.join(\"data/A2A\", \"a2a.pdb\"),\n",
    "        \"inputtraj\":   os.path.join(\"data/A2A\", \"a2a.xtc\"),\n",
    "        \"selection\":   \"protein\",\n",
    "        \"trajslice\":   \"800:900\",\n",
    "        \"output\":      os.path.join(\"data/A2A/valid\"),\n",
    "        \"isatomistic\": True,\n",
    "    },\n",
    "}"
   ]
  },
  {
   "cell_type": "code",
   "execution_count": null,
   "metadata": {
    "metadata": {}
   },
   "outputs": [],
   "source": [
    "system = \"A2A.martini3.train\"\n",
    "build_dataset(args_dict=config_dict.get(system))"
   ]
  },
  {
   "cell_type": "code",
   "execution_count": null,
   "metadata": {},
   "outputs": [],
   "source": [
    "system = \"A2A.martini3.valid\"\n",
    "build_dataset(args_dict=config_dict.get(system))"
   ]
  }
 ],
 "metadata": {
  "kernelspec": {
   "display_name": "herobm",
   "language": "python",
   "name": "python3"
  },
  "language_info": {
   "codemirror_mode": {
    "name": "ipython",
    "version": 3
   },
   "file_extension": ".py",
   "mimetype": "text/x-python",
   "name": "python",
   "nbconvert_exporter": "python",
   "pygments_lexer": "ipython3",
   "version": "3.10.12"
  },
  "orig_nbformat": 4
 },
 "nbformat": 4,
 "nbformat_minor": 2
}
