{
 "cells": [
  {
   "cell_type": "code",
   "execution_count": 4,
   "metadata": {},
   "outputs": [],
   "source": [
    "import os\n",
    "\n",
    "def rename_atoms_in_pdb_files(root_folder, config):\n",
    "    for subdir, _, files in os.walk(root_folder):\n",
    "        for file in files:\n",
    "            if file.endswith('.pdb'):\n",
    "                file_path = os.path.join(subdir, file)\n",
    "                with open(file_path, 'r') as f:\n",
    "                    lines = f.readlines()\n",
    "                \n",
    "                with open(file_path, 'w') as f:\n",
    "                    for line in lines:\n",
    "                        if line.startswith('ATOM') or line.startswith('HETATM'):\n",
    "                            residue_name = line[17:20].strip()\n",
    "                            atom_name = line[12:16].strip()\n",
    "                            key = f\"{residue_name}.{atom_name}\"\n",
    "                            if key in config:\n",
    "                                new_atom_name = config[key].ljust(4)\n",
    "                                line = line[:12] + new_atom_name + line[16:]\n",
    "                        f.write(line)\n",
    "\n",
    "# Example usage\n",
    "root_folder = '/storage_common/angiod/Set-B'\n",
    "config = {'ZMA.AF1': ' B1', 'ZMA.AF2': ' B2', 'ZMA.AF3': ' B3', 'ZMA.AA1': ' B4', 'ZMA.AA2': ' B5', 'ZMA.AA3': ' B6', 'ZMA.AA4': ' B7',\n",
    "          'ZMA.RN1': ' B8', 'ZMA.AP1': ' B9', 'ZMA.AP2': ' B10', 'ZMA.AP3': ' B11'}\n",
    "rename_atoms_in_pdb_files(root_folder, config)"
   ]
  }
 ],
 "metadata": {
  "kernelspec": {
   "display_name": "herobm",
   "language": "python",
   "name": "python3"
  },
  "language_info": {
   "codemirror_mode": {
    "name": "ipython",
    "version": 3
   },
   "file_extension": ".py",
   "mimetype": "text/x-python",
   "name": "python",
   "nbconvert_exporter": "python",
   "pygments_lexer": "ipython3",
   "version": "3.10.12"
  }
 },
 "nbformat": 4,
 "nbformat_minor": 2
}
