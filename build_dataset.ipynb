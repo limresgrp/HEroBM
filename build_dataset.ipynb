{
 "cells": [
  {
   "attachments": {},
   "cell_type": "markdown",
   "metadata": {},
   "source": [
    "# HEroBM Build Training Dataset #"
   ]
  },
  {
   "cell_type": "code",
   "execution_count": null,
   "metadata": {
    "metadata": {}
   },
   "outputs": [],
   "source": [
    "%reload_ext autoreload\n",
    "%autoreload 2"
   ]
  },
  {
   "cell_type": "code",
   "execution_count": null,
   "metadata": {
    "metadata": {}
   },
   "outputs": [],
   "source": [
    "import os\n",
    "from build_dataset import build_dataset"
   ]
  },
  {
   "cell_type": "code",
   "execution_count": null,
   "metadata": {
    "metadata": {}
   },
   "outputs": [],
   "source": [
    "YOUR_PATH_TO_DATA_FOLDER = \"/storage_common/angiod/\"\n",
    "\n",
    "config_dict = {\n",
    "    \"zma.train\": {\n",
    "        \"mapping\": \"zma\",\n",
    "        \"input\": os.path.join(YOUR_PATH_TO_DATA_FOLDER, \"A2A/Omar\"),\n",
    "        \"inputformat\": \"gro\",\n",
    "        \"inputtraj\": os.path.join(YOUR_PATH_TO_DATA_FOLDER, \"A2A/Omar\"),\n",
    "        \"traj_format\": \"xtc\",\n",
    "        \"selection\": \"resname ZMA\",\n",
    "        \"trajslice\": \":5000:5\",\n",
    "        \"output\": os.path.join(YOUR_PATH_TO_DATA_FOLDER, \"A2A/Omar/backmapping/npz/train/zma.npz\"),\n",
    "        \"isatomistic\": True,\n",
    "    },\n",
    "    \"chc.train\": {\n",
    "        \"mapping\": \"chc\",\n",
    "        \"input\": os.path.join(YOUR_PATH_TO_DATA_FOLDER, \"paolo/chc/CHC/CHC_complete.pdb\"),\n",
    "        \"inputtraj\": os.path.join(YOUR_PATH_TO_DATA_FOLDER, \"paolo/chc/CHC/md10_npt_10ps.xtc\"),\n",
    "        \"selection\": \"resname CHC\",\n",
    "        \"trajslice\": \"::10\",\n",
    "        \"output\": os.path.join(YOUR_PATH_TO_DATA_FOLDER, \"paolo/chc/backmapping/npz/train/chc.npz\"),\n",
    "        \"isatomistic\": True,\n",
    "    },\n",
    "    \"membrane.martini3.train\": {\n",
    "        \"mapping\": \"martini3.membrane\",\n",
    "        \"input\": os.path.join(YOUR_PATH_TO_DATA_FOLDER, \"membrane/charmmgui/train/\"),\n",
    "        \"inputformat\": \"pdb\",\n",
    "        \"selection\": \"resname POPC\",\n",
    "        \"output\": os.path.join(YOUR_PATH_TO_DATA_FOLDER, \"membrane/backmapping/martini3/train/\"),\n",
    "        \"isatomistic\": True,\n",
    "    },\n",
    "    \"membrane.martini3.valid\": {\n",
    "        \"mapping\": \"martini3.membrane\",\n",
    "        \"input\": os.path.join(YOUR_PATH_TO_DATA_FOLDER, \"membrane/charmmgui/valid/\"),\n",
    "        \"inputformat\": \"pdb\",\n",
    "        \"selection\": \"resname POPC\",\n",
    "        \"output\": os.path.join(YOUR_PATH_TO_DATA_FOLDER, \"membrane/backmapping/martini3/valid/\"),\n",
    "        \"isatomistic\": True,\n",
    "    },\n",
    "    \"A2A.martini3.train\": {\n",
    "        \"mapping\": \"martini3\",\n",
    "        \"input\": os.path.join(YOUR_PATH_TO_DATA_FOLDER, \"A2A/tpr/a2a.tpr\"),\n",
    "        \"inputtraj\": os.path.join(YOUR_PATH_TO_DATA_FOLDER, \"A2A/trr/\"),\n",
    "        \"trajformat\": \"trr\",\n",
    "        \"selection\": \"protein\",\n",
    "        \"trajslice\": \":1000:10\",\n",
    "        \"output\": os.path.join(YOUR_PATH_TO_DATA_FOLDER, \"A2A/backmapping/npz/martini3/train/\"),\n",
    "        \"isatomistic\": True,\n",
    "    },\n",
    "    \"PDB6K.martini3.train\": {\n",
    "        \"mapping\": \"martini3\",\n",
    "        \"input\": os.path.join(YOUR_PATH_TO_DATA_FOLDER, \"PDB6K/pdb.6k/augment\"),\n",
    "        \"filter\": os.path.join(YOUR_PATH_TO_DATA_FOLDER, \"PDB6K/set/targets.train.pdb.2.9k\"),\n",
    "        \"inputformat\": \"pdb\",\n",
    "        \"selection\": \"protein\",\n",
    "        \"output\": os.path.join(YOUR_PATH_TO_DATA_FOLDER, \"PDB6K/backmapping/npz/martini3.2.9k/train\"),\n",
    "        \"isatomistic\": True,\n",
    "    },\n",
    "    \"PDB6K.martini3.valid\": {\n",
    "        \"mapping\": \"martini3\",\n",
    "        \"input\": os.path.join(YOUR_PATH_TO_DATA_FOLDER, \"PDB6K/pdb.6k/augment\"),\n",
    "        \"filter\": os.path.join(YOUR_PATH_TO_DATA_FOLDER, \"PDB6K/set/targets.valid.pdb.72\"),\n",
    "        \"inputformat\": \"pdb\",\n",
    "        \"selection\": \"protein\",\n",
    "        \"output\": os.path.join(YOUR_PATH_TO_DATA_FOLDER, \"PDB6K/backmapping/npz/martini3.2.9k/valid\"),\n",
    "        \"isatomistic\": True,\n",
    "    },\n",
    "    \"PDB6K.CA.train\": {\n",
    "        \"mapping\": \"ca\",\n",
    "        \"input\": os.path.join(YOUR_PATH_TO_DATA_FOLDER, \"PDB6K/pdb.6k/augment\"),\n",
    "        \"filter\": os.path.join(YOUR_PATH_TO_DATA_FOLDER, \"PDB6K/set/targets.train.pdb.2.9k\"),\n",
    "        \"inputformat\": \"pdb\",\n",
    "        \"selection\": \"protein\",\n",
    "        \"output\": os.path.join(YOUR_PATH_TO_DATA_FOLDER, \"PDB6K/backmapping/npz/ca.2.9k/train\"),\n",
    "        \"isatomistic\": True,\n",
    "    },\n",
    "    \"PDB6K.CA.valid\": {\n",
    "        \"mapping\": \"ca\",\n",
    "        \"input\": os.path.join(YOUR_PATH_TO_DATA_FOLDER, \"PDB6K/pdb.6k/augment\"),\n",
    "        \"filter\": os.path.join(YOUR_PATH_TO_DATA_FOLDER, \"PDB6K/set/targets.valid.pdb.72\"),\n",
    "        \"inputformat\": \"pdb\",\n",
    "        \"selection\": \"protein\",\n",
    "        \"output\": os.path.join(YOUR_PATH_TO_DATA_FOLDER, \"PDB6K/backmapping/npz/ca.2.9k/valid\"),\n",
    "        \"isatomistic\": True,\n",
    "    },\n",
    "    \"PED.CA.train\": {\n",
    "        \"mapping\": \"ca\",\n",
    "        \"input\": os.path.join(YOUR_PATH_TO_DATA_FOLDER, \"PED/pdb/train\"),\n",
    "        \"inputformat\": \"pdb\",\n",
    "        \"selection\": \"protein\",\n",
    "        \"trajslice\": \":1000\",\n",
    "        \"output\": os.path.join(YOUR_PATH_TO_DATA_FOLDER, \"PED/backmapping/npz/ca.train\"),\n",
    "        \"isatomistic\": True,\n",
    "    },\n",
    "    \"PED.CA.valid\": {\n",
    "        \"mapping\": \"ca\",\n",
    "        \"input\": os.path.join(YOUR_PATH_TO_DATA_FOLDER, \"PED/pdb/valid\"),\n",
    "        \"inputformat\": \"pdb\",\n",
    "        \"selection\": \"protein\",\n",
    "        \"output\": os.path.join(YOUR_PATH_TO_DATA_FOLDER, \"PED/backmapping/npz/ca.valid\"),\n",
    "        \"isatomistic\": True,\n",
    "    },\n",
    "}"
   ]
  },
  {
   "cell_type": "code",
   "execution_count": null,
   "metadata": {
    "metadata": {}
   },
   "outputs": [],
   "source": [
    "system = \"PED.CA.train\"\n",
    "\n",
    "build_dataset(args_dict=config_dict.get(system))"
   ]
  }
 ],
 "metadata": {
  "kernelspec": {
   "display_name": "prostat",
   "language": "python",
   "name": "python3"
  },
  "language_info": {
   "codemirror_mode": {
    "name": "ipython",
    "version": 3
   },
   "file_extension": ".py",
   "mimetype": "text/x-python",
   "name": "python",
   "nbconvert_exporter": "python",
   "pygments_lexer": "ipython3",
   "version": "3.10.12"
  },
  "orig_nbformat": 4,
  "vscode": {
   "interpreter": {
    "hash": "e83e13eb7a5ae82a8aeb1528983d49f46d4932259c63802e14669f17a5fcf04a"
   }
  }
 },
 "nbformat": 4,
 "nbformat_minor": 2
}
