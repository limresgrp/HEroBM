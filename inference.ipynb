{
 "cells": [
  {
   "cell_type": "code",
   "execution_count": 1,
   "metadata": {},
   "outputs": [],
   "source": [
    "%reload_ext autoreload\n",
    "%autoreload 2"
   ]
  },
  {
   "cell_type": "markdown",
   "metadata": {},
   "source": [
    "# Testing HEroBM model #"
   ]
  },
  {
   "cell_type": "markdown",
   "metadata": {},
   "source": [
    "### 1. Download Testing Dataset ###"
   ]
  },
  {
   "cell_type": "code",
   "execution_count": null,
   "metadata": {},
   "outputs": [],
   "source": [
    "!wget url ../data/a2a.npz"
   ]
  },
  {
   "cell_type": "markdown",
   "metadata": {},
   "source": [
    "### 2. Create the inference config file ###"
   ]
  },
  {
   "cell_type": "markdown",
   "metadata": {},
   "source": [
    "Specify the following parameters:\n",
    "- mapping: which is the CG mapping to use\n",
    "- isatomistic: set to True if the input file is at atomistic resolution. In this case, the input will first be converted to CG, according to the specified mapping, then the model will be used to backmap the CG back again to atomistic resolution.\n",
    "- input: input file to backmap. It could be either a pdb, gro or any formatcompatible with MDAnalysis.\n",
    "- selection: optional selection of atoms/beads/residues/molecules to apply on input as a pre-processing\n",
    "- model: could be either a deployed model or the configuration file used for training.\n",
    "- output: Optionally, you can provide a folder where to save the backmapped result"
   ]
  },
  {
   "cell_type": "code",
   "execution_count": null,
   "metadata": {},
   "outputs": [],
   "source": [
    "# args_dict = {\n",
    "#     \"mapping\": \"martini3\",\n",
    "#     \"isatomistic\": True,\n",
    "#     \"input\": \"/storage_common/angiod/A2A/tpr/a2a.tpr\",\n",
    "#     \"inputtraj\": \"/storage_common/angiod/A2A/trr/a2a.trr\",\n",
    "#     \"trajslice\": \"900:901:1\",\n",
    "#     \"selection\": \"protein\",\n",
    "#     \"output\": \"backmapped/tutorial/A2A.martini\",\n",
    "#     \"model\": \"config/tutorial.train.yaml\",\n",
    "# }\n",
    "\n",
    "# args_dict.update({\n",
    "#     \"device\": \"cuda:3\",\n",
    "#     \"batch_max_atoms\": 10000,\n",
    "#     \"noinvariants\": True,\n",
    "# })\n",
    "\n",
    "import os\n",
    "from herobm.backmapping.hierarchical_backmapping import HierarchicalBackmapping\n",
    "\n",
    "def run_backmapping(fr, pdb):\n",
    "    f = os.path.join(fr, pdb)\n",
    "    # args_dict = {\n",
    "    #     \"mapping\": \"martini3\",\n",
    "    #     \"isatomistic\": False,\n",
    "    #     \"input\": f\"/storage_common/angiod/{f}\",\n",
    "    #     # \"inputtraj\": \"\",\n",
    "    #     # \"trajslice\": \"0:10\",\n",
    "    #     \"selection\": \"protein\",\n",
    "    #     \"output\": f\"backmapped/Vince/A2A/{f}\",\n",
    "    #     \"model\": \"/home/angiod@usi.ch/HEroBM/results/A2A/A2A.martini3/best_model.pth\",\n",
    "    # }\n",
    "    # args_dict = {\n",
    "    #     \"mapping\": \"zma\",\n",
    "    #     \"isatomistic\": False,\n",
    "    #     \"input\": f\"/storage_common/angiod/Vince/{f}\",\n",
    "    #     # \"inputtraj\": \"\",\n",
    "    #     # \"trajslice\": \"0:10\",\n",
    "    #     \"selection\": \"resname ZMA\",\n",
    "    #     \"output\": f\"backmapped/Vince/ZMA/{f}\",\n",
    "    #     \"model\": \"/home/angiod@usi.ch/HEroBM/results/zma/ZMA.martini3/best_model.pth\",\n",
    "    # }\n",
    "    args_dict = {\n",
    "        \"mapping\": \"/home/angiod@usi.ch/HEroBM/mappings/neca\",\n",
    "        \"isatomistic\": False,\n",
    "        \"input\": f\"/storage_common/angiod/Vince/{f}\",\n",
    "        # \"inputtraj\": \"\",\n",
    "        # \"trajslice\": \"0:10\",\n",
    "        \"selection\": \"resname NEC\",\n",
    "        \"output\": f\"backmapped/Vince/NECA/{f}\",\n",
    "        \"model\": \"/home/angiod@usi.ch/HEroBM/results/neca/NECA.martini3/best_model.pth\",\n",
    "    }\n",
    "\n",
    "    args_dict.update({\n",
    "        \"device\": \"cuda:0\",\n",
    "        \"batch_max_atoms\": 3000,\n",
    "        \"noinvariants\": True,\n",
    "    })\n",
    "\n",
    "    backmapping = HierarchicalBackmapping(args_dict=args_dict)\n",
    "\n",
    "    backmapped_filenames, backmapped_minimised_filenames, true_filenames, cg_filenames = backmapping.backmap(\n",
    "        optimise_backbone=False,\n",
    "        tolerance=500., # Value in Kj/(mol nm). Threshold to stop energy minimisation.\n",
    "    )\n",
    "\n",
    "# exopicks\n",
    "fr = \"2022/5-PR1-CBA/Extracts/Set-B/exopicks/\"\n",
    "pdbs = [\"EX-S7-R09-F00004.pdb\", \"EX-S7-R09-F02032.pdb\", \"EX-S7-R09-F05081.pdb\", \"EX-S7-R09-F05476.pdb\",\n",
    "        \"EX-S7-R09-F07086.pdb\", \"EX-S7-R09-F20635.pdb\", \"EX-S7-R09-F21898.pdb\", \"EX-S7-R09-F28065.pdb\"]\n",
    "\n",
    "# necpicks\n",
    "# fr = \"2022/5-PR1-CBA/Extracts/Set-B/necpicks/\"\n",
    "# pdbs = [\"EX-R002-F00287.pdb\", \"EX-R002-F00343.pdb\", \"EX-R002-F00423.pdb\", \"EX-R002-F01383.pdb\", \"EX-R002-F01569.pdb\",\n",
    "#         \"EX-R002-F00288.pdb\",  \"EX-R002-F00416.pdb\",  \"EX-R002-F00425.pdb\",  \"EX-R002-F01387.pdb\",  \"EX-R002-F01578.pdb\"]\n",
    "\n",
    "# zmapicks\n",
    "# fr = \"2022/5-PR1-CBA/Extracts/Set-B/zmapicks/\"\n",
    "# pdbs = [\"EX-R009-F00038.pdb\", \"EX-R009-F00040.pdb\", \"EX-R009-F00042.pdb\", \"EX-R009-F00759.pdb\", \"EX-R009-F00794.pdb\"]\n",
    "for pdb in pdbs:\n",
    "    run_backmapping(fr, pdb)"
   ]
  },
  {
   "cell_type": "markdown",
   "metadata": {},
   "source": [
    "### 3. Run backmapping ###"
   ]
  },
  {
   "cell_type": "markdown",
   "metadata": {},
   "source": [
    "Optionally, you can run the backbone optimisation, which adjusts BB atoms in case they end up in unphysical positions.\n",
    "'tolerance' parameter is used as a threshold for energy minimisation.\n",
    "\n",
    "Note: if you test the A2A model on other proteins, most probably the energy minimised version will have a lower RMSD with respect to the raw backmapped version. This is expected, as the model was trained on a single system and is not yet able to generalise extremely well, thus might create clashes in some cases. Running even mild energy minimisation fixes any clash and gives a sound structure to simulate."
   ]
  },
  {
   "cell_type": "code",
   "execution_count": null,
   "metadata": {},
   "outputs": [],
   "source": []
  },
  {
   "cell_type": "markdown",
   "metadata": {},
   "source": [
    "After training completion, you will find the results in the './results/tutorial/A2A.martini' folder.\n",
    "\n",
    "Model weights are saved as 'best_model.pth', while the 'config.yaml' file contains all the directives to load the model, to either perform inference or to continue training/fine-tune the model."
   ]
  },
  {
   "cell_type": "code",
   "execution_count": null,
   "metadata": {},
   "outputs": [],
   "source": [
    "import MDAnalysis as mda\n",
    "from MDAnalysis.analysis import rms\n",
    "import nglview as nv\n",
    "\n",
    "backmapped_u = mda.Universe(*backmapped_filenames)\n",
    "ref_u = mda.Universe(*true_filenames)\n",
    "\n",
    "print(\"RMSD BB:\", rms.rmsd(backmapped_u.select_atoms('name N CA C').positions, ref_u.select_atoms('name N CA C').positions, superposition=False))\n",
    "print(\"RMSD SC:\", rms.rmsd(backmapped_u.select_atoms('protein and not name N CA C O').positions, ref_u.select_atoms('protein and not name N CA C O').positions, superposition=False))\n",
    "\n",
    "sel = 'protein'\n",
    "w = nv.show_mdanalysis(backmapped_u)\n",
    "w.add_representation('licorice', selection='protein')\n",
    "w"
   ]
  },
  {
   "cell_type": "markdown",
   "metadata": {},
   "source": [
    "Check reconstructed and original together"
   ]
  },
  {
   "cell_type": "code",
   "execution_count": null,
   "metadata": {},
   "outputs": [],
   "source": [
    "merged_u = mda.Merge(backmapped_u.select_atoms(sel), ref_u.select_atoms(sel))\n",
    "\n",
    "w = nv.show_mdanalysis(merged_u)\n",
    "w.add_representation('licorice', selection='protein')\n",
    "w"
   ]
  },
  {
   "cell_type": "markdown",
   "metadata": {},
   "source": [
    "Finally, have a look to the minimised structure and compare it to the ground truth"
   ]
  },
  {
   "cell_type": "code",
   "execution_count": null,
   "metadata": {},
   "outputs": [],
   "source": [
    "backmapped_minimised_u = mda.Universe(*backmapped_minimised_filenames)\n",
    "merged_minimised_u = mda.Merge(backmapped_minimised_u.select_atoms(sel), ref_u.select_atoms(sel))\n",
    "\n",
    "s = 'name N CA C O and not resname ACE NME'\n",
    "print(\"RMSD BB:\", rms.rmsd(backmapped_minimised_u.select_atoms(s).positions, ref_u.select_atoms(s).positions, superposition=False))\n",
    "s = 'protein and not name N CA C O OXT and not type H and not resname ACE NME'\n",
    "print(\"RMSD SC:\", rms.rmsd(backmapped_minimised_u.select_atoms(s).positions, ref_u.select_atoms(s).positions, superposition=False))\n",
    "\n",
    "w = nv.show_mdanalysis(merged_minimised_u)\n",
    "w.add_representation('licorice', selection='protein')\n",
    "w"
   ]
  }
 ],
 "metadata": {
  "kernelspec": {
   "display_name": "herobm",
   "language": "python",
   "name": "python3"
  },
  "language_info": {
   "codemirror_mode": {
    "name": "ipython",
    "version": 3
   },
   "file_extension": ".py",
   "mimetype": "text/x-python",
   "name": "python",
   "nbconvert_exporter": "python",
   "pygments_lexer": "ipython3",
   "version": "3.10.12"
  },
  "orig_nbformat": 4
 },
 "nbformat": 4,
 "nbformat_minor": 2
}
