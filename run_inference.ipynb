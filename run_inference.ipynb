{
 "cells": [
  {
   "cell_type": "code",
   "execution_count": 1,
   "metadata": {},
   "outputs": [],
   "source": [
    "%reload_ext autoreload\n",
    "%autoreload 2"
   ]
  },
  {
   "cell_type": "markdown",
   "metadata": {},
   "source": [
    "# Run HEroBM backmapping #"
   ]
  },
  {
   "cell_type": "markdown",
   "metadata": {},
   "source": [
    "### 1. Create the inference config file ###"
   ]
  },
  {
   "cell_type": "markdown",
   "metadata": {},
   "source": [
    "Specify the following parameters:\n",
    "- mapping: which is the CG mapping to use\n",
    "- input: input file to backmap. It could be either a pdb, gro or any format compatible with MDAnalysis.\n",
    "- inputtraj: optional xtc or trr trajectory to load into the input file.\n",
    "- isatomistic: set to True if the input file is at atomistic resolution. In this case, the input will first be converted to CG, according to the specified mapping, then the model will be used to backmap the CG back again to atomistic resolution. This is used to evaluate model performance.\n",
    "- selection: optional selection of atoms/beads/residues/molecules to apply on input as a pre-processing\n",
    "- trajslice: optional indexing of frame using the python slice format [from]:[to][:step]\n",
    "- model: could be either a deployed model or the .pth model file used for training (usually, '.../run_name/best_model.pth').\n",
    "- output: Optionally, you can provide a folder where to save the backmapped result"
   ]
  },
  {
   "cell_type": "code",
   "execution_count": 1,
   "metadata": {},
   "outputs": [],
   "source": [
    "args_dict = {\n",
    "    \"mapping\": \"martini3\",\n",
    "    \"input\": \"data/tutorial/A2A/md/a2a.pdb\",\n",
    "    \"inputtraj\": \"data/tutorial/A2A/md/a2a.xtc\",\n",
    "    \"isatomistic\": True, # Set this to False when backmapping actual CG\n",
    "    \"selection\": \"protein\",\n",
    "    \"trajslice\": \"900:1000:10\",\n",
    "    \"model\": \"results/A2A/A2A.martini3/best_model.pth\",\n",
    "    \"output\": \"backmapped/tutorial/A2A.martini3\",\n",
    "}\n",
    "\n",
    "args_dict.update({\n",
    "    \"device\": \"cuda:0\",\n",
    "    \"noinvariants\": True, # Avoid computing angles and dihedrals when Coarse-graining atomistic input, they are used only for training.\n",
    "})"
   ]
  },
  {
   "cell_type": "markdown",
   "metadata": {},
   "source": [
    "### 2. Run backmapping ###"
   ]
  },
  {
   "cell_type": "markdown",
   "metadata": {},
   "source": [
    "'tolerance' parameter is used as a threshold for energy minimisation.\n",
    "\n",
    "Note: if you test the A2A model on other proteins, most probably the energy minimised version will have a lower RMSD with respect to the raw backmapped version. This is expected, as the model was trained on a single system and is not yet able to generalise extremely well, thus might create clashes in some cases. Running even mild energy minimisation fixes any clash and gives a sound structure to simulate."
   ]
  },
  {
   "cell_type": "code",
   "execution_count": null,
   "metadata": {},
   "outputs": [],
   "source": [
    "from herobm.backmapping.hierarchical_backmapping import HierarchicalBackmapping\n",
    "\n",
    "backmapping = HierarchicalBackmapping(args_dict=args_dict)\n",
    "\n",
    "backmapped_filenames, backmapped_minimised_filenames, true_filenames, cg_filenames = backmapping.backmap(\n",
    "    tolerance=500., # Value in Kj/(mol nm). Threshold to stop energy minimisation.\n",
    ")"
   ]
  },
  {
   "cell_type": "markdown",
   "metadata": {},
   "source": [
    "After training completion, you will find the results in the './results/tutorial/A2A.martini' folder.\n",
    "\n",
    "Model weights are saved as 'best_model.pth', while the 'config.yaml' file contains all the directives to load the model, to either perform inference or to continue training/fine-tune the model."
   ]
  },
  {
   "cell_type": "code",
   "execution_count": null,
   "metadata": {},
   "outputs": [],
   "source": [
    "import MDAnalysis as mda\n",
    "import nglview as nv\n",
    "from MDAnalysis.analysis import rms\n",
    "\n",
    "backmapped_u = mda.Universe(*backmapped_filenames[:1])\n",
    "ref_u = mda.Universe(*true_filenames[:1])\n",
    "\n",
    "print(\"RMSD BB:\", rms.rmsd(backmapped_u.select_atoms('name N CA C O').positions, ref_u.select_atoms('name N CA C O').positions, superposition=False))\n",
    "print(\"RMSD SC:\", rms.rmsd(backmapped_u.select_atoms('protein and not name N CA C O').positions, ref_u.select_atoms('protein and not name N CA C O').positions, superposition=False))\n",
    "\n",
    "sel = 'protein'\n",
    "w = nv.show_mdanalysis(backmapped_u)\n",
    "w.add_representation('licorice', selection='protein')\n",
    "w"
   ]
  },
  {
   "cell_type": "markdown",
   "metadata": {},
   "source": [
    "Check reconstructed and original together"
   ]
  },
  {
   "cell_type": "code",
   "execution_count": null,
   "metadata": {},
   "outputs": [],
   "source": [
    "merged_u = mda.Merge(backmapped_u.select_atoms(sel), ref_u.select_atoms(sel))\n",
    "\n",
    "w = nv.show_mdanalysis(merged_u)\n",
    "w.add_representation('licorice', selection='protein')\n",
    "w"
   ]
  },
  {
   "cell_type": "markdown",
   "metadata": {},
   "source": [
    "Finally, have a look to the minimised structure and compare it to the ground truth"
   ]
  },
  {
   "cell_type": "code",
   "execution_count": null,
   "metadata": {},
   "outputs": [],
   "source": [
    "backmapped_minimised_u = mda.Universe(*backmapped_minimised_filenames[:1])\n",
    "merged_minimised_u = mda.Merge(backmapped_minimised_u.select_atoms(sel), ref_u.select_atoms(sel))\n",
    "\n",
    "s = 'name N CA C O and not resname ACE NME'\n",
    "print(\"RMSD BB:\", rms.rmsd(backmapped_minimised_u.select_atoms(s).positions, ref_u.select_atoms(s).positions, superposition=False))\n",
    "s = 'protein and not name N CA C O OXT and not type H and not resname ACE NME'\n",
    "print(\"RMSD SC:\", rms.rmsd(backmapped_minimised_u.select_atoms(s).positions, ref_u.select_atoms(s).positions, superposition=False))\n",
    "\n",
    "w = nv.show_mdanalysis(merged_minimised_u)\n",
    "w.add_representation('licorice', selection='protein')\n",
    "w"
   ]
  }
 ],
 "metadata": {
  "kernelspec": {
   "display_name": "herobm",
   "language": "python",
   "name": "python3"
  },
  "language_info": {
   "codemirror_mode": {
    "name": "ipython",
    "version": 3
   },
   "file_extension": ".py",
   "mimetype": "text/x-python",
   "name": "python",
   "nbconvert_exporter": "python",
   "pygments_lexer": "ipython3",
   "version": "3.10.12"
  },
  "orig_nbformat": 4
 },
 "nbformat": 4,
 "nbformat_minor": 2
}
